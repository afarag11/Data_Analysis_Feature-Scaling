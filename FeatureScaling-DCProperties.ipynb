{
 "cells": [
  {
   "cell_type": "code",
   "execution_count": null,
   "metadata": {},
   "outputs": [],
   "source": [
    "#Task: Use the D.C. Residential Properties dataset to re-scale the \"price\" column using both z-score standardization and Min-max scaling"
   ]
  },
  {
   "cell_type": "code",
   "execution_count": 4,
   "metadata": {},
   "outputs": [],
   "source": [
    "#library to use dataframes\n",
    "import pandas as pd\n",
    "\n",
    "#functions for z-score scaling and MinMax scaling\n",
    "from sklearn.preprocessing import StandardScaler\n",
    "from sklearn.preprocessing import MinMaxScaler"
   ]
  },
  {
   "cell_type": "code",
   "execution_count": 5,
   "metadata": {},
   "outputs": [
    {
     "name": "stderr",
     "output_type": "stream",
     "text": [
      "C:\\Users\\Nisha\\Anaconda3\\lib\\site-packages\\IPython\\core\\interactiveshell.py:2698: DtypeWarning: Columns (18,19,20,21,22,23,24,33,34,35,37,43,45) have mixed types. Specify dtype option on import or set low_memory=False.\n",
      "  interactivity=interactivity, compiler=compiler, result=result)\n"
     ]
    },
    {
     "data": {
      "text/html": [
       "<div>\n",
       "<style scoped>\n",
       "    .dataframe tbody tr th:only-of-type {\n",
       "        vertical-align: middle;\n",
       "    }\n",
       "\n",
       "    .dataframe tbody tr th {\n",
       "        vertical-align: top;\n",
       "    }\n",
       "\n",
       "    .dataframe thead th {\n",
       "        text-align: right;\n",
       "    }\n",
       "</style>\n",
       "<table border=\"1\" class=\"dataframe\">\n",
       "  <thead>\n",
       "    <tr style=\"text-align: right;\">\n",
       "      <th></th>\n",
       "      <th>Unnamed: 0</th>\n",
       "      <th>BATHRM</th>\n",
       "      <th>HF_BATHRM</th>\n",
       "      <th>HEAT</th>\n",
       "      <th>AC</th>\n",
       "      <th>NUM_UNITS</th>\n",
       "      <th>ROOMS</th>\n",
       "      <th>BEDRM</th>\n",
       "      <th>AYB</th>\n",
       "      <th>YR_RMDL</th>\n",
       "      <th>...</th>\n",
       "      <th>LONGITUDE</th>\n",
       "      <th>ASSESSMENT_NBHD</th>\n",
       "      <th>ASSESSMENT_SUBNBHD</th>\n",
       "      <th>CENSUS_TRACT</th>\n",
       "      <th>CENSUS_BLOCK</th>\n",
       "      <th>WARD</th>\n",
       "      <th>SQUARE</th>\n",
       "      <th>X</th>\n",
       "      <th>Y</th>\n",
       "      <th>QUADRANT</th>\n",
       "    </tr>\n",
       "  </thead>\n",
       "  <tbody>\n",
       "    <tr>\n",
       "      <th>0</th>\n",
       "      <td>0</td>\n",
       "      <td>4</td>\n",
       "      <td>0</td>\n",
       "      <td>Warm Cool</td>\n",
       "      <td>Y</td>\n",
       "      <td>2.0</td>\n",
       "      <td>8</td>\n",
       "      <td>4</td>\n",
       "      <td>1910.0</td>\n",
       "      <td>1988.0</td>\n",
       "      <td>...</td>\n",
       "      <td>-77.040832</td>\n",
       "      <td>Old City 2</td>\n",
       "      <td>040 D Old City 2</td>\n",
       "      <td>4201.0</td>\n",
       "      <td>004201 2006</td>\n",
       "      <td>Ward 2</td>\n",
       "      <td>152</td>\n",
       "      <td>-77.040429</td>\n",
       "      <td>38.914881</td>\n",
       "      <td>NW</td>\n",
       "    </tr>\n",
       "    <tr>\n",
       "      <th>1</th>\n",
       "      <td>1</td>\n",
       "      <td>3</td>\n",
       "      <td>1</td>\n",
       "      <td>Warm Cool</td>\n",
       "      <td>Y</td>\n",
       "      <td>2.0</td>\n",
       "      <td>11</td>\n",
       "      <td>5</td>\n",
       "      <td>1898.0</td>\n",
       "      <td>2007.0</td>\n",
       "      <td>...</td>\n",
       "      <td>-77.040764</td>\n",
       "      <td>Old City 2</td>\n",
       "      <td>040 D Old City 2</td>\n",
       "      <td>4201.0</td>\n",
       "      <td>004201 2006</td>\n",
       "      <td>Ward 2</td>\n",
       "      <td>152</td>\n",
       "      <td>-77.040429</td>\n",
       "      <td>38.914881</td>\n",
       "      <td>NW</td>\n",
       "    </tr>\n",
       "    <tr>\n",
       "      <th>2</th>\n",
       "      <td>2</td>\n",
       "      <td>3</td>\n",
       "      <td>1</td>\n",
       "      <td>Hot Water Rad</td>\n",
       "      <td>Y</td>\n",
       "      <td>2.0</td>\n",
       "      <td>9</td>\n",
       "      <td>5</td>\n",
       "      <td>1910.0</td>\n",
       "      <td>2009.0</td>\n",
       "      <td>...</td>\n",
       "      <td>-77.040678</td>\n",
       "      <td>Old City 2</td>\n",
       "      <td>040 D Old City 2</td>\n",
       "      <td>4201.0</td>\n",
       "      <td>004201 2006</td>\n",
       "      <td>Ward 2</td>\n",
       "      <td>152</td>\n",
       "      <td>-77.040429</td>\n",
       "      <td>38.914881</td>\n",
       "      <td>NW</td>\n",
       "    </tr>\n",
       "    <tr>\n",
       "      <th>3</th>\n",
       "      <td>3</td>\n",
       "      <td>3</td>\n",
       "      <td>1</td>\n",
       "      <td>Hot Water Rad</td>\n",
       "      <td>Y</td>\n",
       "      <td>2.0</td>\n",
       "      <td>8</td>\n",
       "      <td>5</td>\n",
       "      <td>1900.0</td>\n",
       "      <td>2003.0</td>\n",
       "      <td>...</td>\n",
       "      <td>-77.040629</td>\n",
       "      <td>Old City 2</td>\n",
       "      <td>040 D Old City 2</td>\n",
       "      <td>4201.0</td>\n",
       "      <td>004201 2006</td>\n",
       "      <td>Ward 2</td>\n",
       "      <td>152</td>\n",
       "      <td>-77.040429</td>\n",
       "      <td>38.914881</td>\n",
       "      <td>NW</td>\n",
       "    </tr>\n",
       "    <tr>\n",
       "      <th>4</th>\n",
       "      <td>4</td>\n",
       "      <td>2</td>\n",
       "      <td>1</td>\n",
       "      <td>Warm Cool</td>\n",
       "      <td>Y</td>\n",
       "      <td>1.0</td>\n",
       "      <td>11</td>\n",
       "      <td>3</td>\n",
       "      <td>1913.0</td>\n",
       "      <td>2012.0</td>\n",
       "      <td>...</td>\n",
       "      <td>-77.039361</td>\n",
       "      <td>Old City 2</td>\n",
       "      <td>040 D Old City 2</td>\n",
       "      <td>4201.0</td>\n",
       "      <td>004201 2006</td>\n",
       "      <td>Ward 2</td>\n",
       "      <td>152</td>\n",
       "      <td>-77.040429</td>\n",
       "      <td>38.914881</td>\n",
       "      <td>NW</td>\n",
       "    </tr>\n",
       "  </tbody>\n",
       "</table>\n",
       "<p>5 rows × 49 columns</p>\n",
       "</div>"
      ],
      "text/plain": [
       "   Unnamed: 0  BATHRM  HF_BATHRM           HEAT AC  NUM_UNITS  ROOMS  BEDRM  \\\n",
       "0           0       4          0      Warm Cool  Y        2.0      8      4   \n",
       "1           1       3          1      Warm Cool  Y        2.0     11      5   \n",
       "2           2       3          1  Hot Water Rad  Y        2.0      9      5   \n",
       "3           3       3          1  Hot Water Rad  Y        2.0      8      5   \n",
       "4           4       2          1      Warm Cool  Y        1.0     11      3   \n",
       "\n",
       "      AYB  YR_RMDL  ...  LONGITUDE  ASSESSMENT_NBHD ASSESSMENT_SUBNBHD  \\\n",
       "0  1910.0   1988.0  ... -77.040832       Old City 2   040 D Old City 2   \n",
       "1  1898.0   2007.0  ... -77.040764       Old City 2   040 D Old City 2   \n",
       "2  1910.0   2009.0  ... -77.040678       Old City 2   040 D Old City 2   \n",
       "3  1900.0   2003.0  ... -77.040629       Old City 2   040 D Old City 2   \n",
       "4  1913.0   2012.0  ... -77.039361       Old City 2   040 D Old City 2   \n",
       "\n",
       "   CENSUS_TRACT CENSUS_BLOCK    WARD  SQUARE          X          Y QUADRANT  \n",
       "0        4201.0  004201 2006  Ward 2     152 -77.040429  38.914881       NW  \n",
       "1        4201.0  004201 2006  Ward 2     152 -77.040429  38.914881       NW  \n",
       "2        4201.0  004201 2006  Ward 2     152 -77.040429  38.914881       NW  \n",
       "3        4201.0  004201 2006  Ward 2     152 -77.040429  38.914881       NW  \n",
       "4        4201.0  004201 2006  Ward 2     152 -77.040429  38.914881       NW  \n",
       "\n",
       "[5 rows x 49 columns]"
      ]
     },
     "execution_count": 5,
     "metadata": {},
     "output_type": "execute_result"
    }
   ],
   "source": [
    "#variable for the path to the file\n",
    "filepath = \"../../datasets/DC_Properties.csv\"\n",
    "\n",
    "#read info from file and load as dataframe\n",
    "#then show first 5 rows of dataframe\n",
    "housing_df = pd.read_csv(filepath)\n",
    "housing_df.head()"
   ]
  },
  {
   "cell_type": "code",
   "execution_count": 6,
   "metadata": {},
   "outputs": [
    {
     "data": {
      "text/plain": [
       "Unnamed: 0                 0\n",
       "BATHRM                     0\n",
       "HF_BATHRM                  0\n",
       "HEAT                       0\n",
       "AC                         0\n",
       "NUM_UNITS              52261\n",
       "ROOMS                      0\n",
       "BEDRM                      0\n",
       "AYB                      271\n",
       "YR_RMDL                78029\n",
       "EYB                        0\n",
       "STORIES                52305\n",
       "SALEDATE               26770\n",
       "PRICE                  60741\n",
       "QUALIFIED                  0\n",
       "SALE_NUM                   0\n",
       "GBA                    52261\n",
       "BLDG_NUM                   0\n",
       "STYLE                  52261\n",
       "STRUCT                 52261\n",
       "GRADE                  52261\n",
       "CNDTN                  52261\n",
       "EXTWALL                52261\n",
       "ROOF                   52261\n",
       "INTWALL                52261\n",
       "KITCHENS               52262\n",
       "FIREPLACES                 0\n",
       "USECODE                    0\n",
       "LANDAREA                   0\n",
       "GIS_LAST_MOD_DTTM          0\n",
       "SOURCE                     0\n",
       "CMPLX_NUM             106696\n",
       "LIVING_GBA            106696\n",
       "FULLADDRESS            52917\n",
       "CITY                   52906\n",
       "STATE                  52906\n",
       "ZIPCODE                    1\n",
       "NATIONALGRID           52906\n",
       "LATITUDE                   1\n",
       "LONGITUDE                  1\n",
       "ASSESSMENT_NBHD            1\n",
       "ASSESSMENT_SUBNBHD     32551\n",
       "CENSUS_TRACT               1\n",
       "CENSUS_BLOCK           52906\n",
       "WARD                       1\n",
       "SQUARE                     0\n",
       "X                        237\n",
       "Y                        237\n",
       "QUADRANT                 237\n",
       "dtype: int64"
      ]
     },
     "execution_count": 6,
     "metadata": {},
     "output_type": "execute_result"
    }
   ],
   "source": [
    "#total number of null (missing) values in each column\n",
    "housing_df.isnull().sum()"
   ]
  },
  {
   "cell_type": "code",
   "execution_count": 7,
   "metadata": {},
   "outputs": [],
   "source": [
    "#drop the Unnamed:0 column from dataframe\n",
    "housing_df.drop('Unnamed: 0', axis=1, inplace=True)"
   ]
  },
  {
   "cell_type": "code",
   "execution_count": 8,
   "metadata": {},
   "outputs": [
    {
     "data": {
      "text/plain": [
       "Index(['BATHRM', 'HF_BATHRM', 'HEAT', 'AC', 'NUM_UNITS', 'ROOMS', 'BEDRM',\n",
       "       'AYB', 'YR_RMDL', 'EYB', 'STORIES', 'SALEDATE', 'PRICE', 'QUALIFIED',\n",
       "       'SALE_NUM', 'GBA', 'BLDG_NUM', 'STYLE', 'STRUCT', 'GRADE', 'CNDTN',\n",
       "       'EXTWALL', 'ROOF', 'INTWALL', 'KITCHENS', 'FIREPLACES', 'USECODE',\n",
       "       'LANDAREA', 'GIS_LAST_MOD_DTTM', 'SOURCE', 'CMPLX_NUM', 'LIVING_GBA',\n",
       "       'FULLADDRESS', 'CITY', 'STATE', 'ZIPCODE', 'NATIONALGRID', 'LATITUDE',\n",
       "       'LONGITUDE', 'ASSESSMENT_NBHD', 'ASSESSMENT_SUBNBHD', 'CENSUS_TRACT',\n",
       "       'CENSUS_BLOCK', 'WARD', 'SQUARE', 'X', 'Y', 'QUADRANT'],\n",
       "      dtype='object')"
      ]
     },
     "execution_count": 8,
     "metadata": {},
     "output_type": "execute_result"
    }
   ],
   "source": [
    "#list of column header names\n",
    "housing_df.columns"
   ]
  },
  {
   "cell_type": "code",
   "execution_count": 29,
   "metadata": {},
   "outputs": [
    {
     "data": {
      "text/plain": [
       "count    1.589530e+05\n",
       "mean     8.828639e+05\n",
       "std      5.602548e+06\n",
       "min      1.000000e+00\n",
       "25%      2.652539e+05\n",
       "50%      4.215000e+05\n",
       "75%      7.100000e+05\n",
       "max      1.374275e+08\n",
       "Name: PRICE, dtype: float64"
      ]
     },
     "execution_count": 29,
     "metadata": {},
     "output_type": "execute_result"
    }
   ],
   "source": [
    "housing_df['PRICE'].describe()"
   ]
  },
  {
   "cell_type": "code",
   "execution_count": 9,
   "metadata": {},
   "outputs": [
    {
     "data": {
      "text/plain": [
       "WARD    BEDRM\n",
       "Ward 1  0        4.374085e+05\n",
       "        1        5.299856e+05\n",
       "        2        5.647922e+05\n",
       "        3        5.385860e+05\n",
       "        4        6.516617e+05\n",
       "        5        7.845974e+05\n",
       "        6        8.433083e+05\n",
       "        7        9.345000e+05\n",
       "        8        8.191190e+05\n",
       "        9        1.037317e+06\n",
       "        10       9.180000e+05\n",
       "        12       7.480000e+05\n",
       "        14       9.250000e+05\n",
       "        15       1.105000e+06\n",
       "        20       1.900000e+06\n",
       "Ward 2  0        1.063929e+06\n",
       "        1        1.012982e+06\n",
       "        2        9.294823e+05\n",
       "        3        1.266270e+06\n",
       "        4        1.438164e+06\n",
       "        5        1.767520e+06\n",
       "        6        2.274467e+06\n",
       "        7        2.486571e+06\n",
       "        8        3.038708e+06\n",
       "        9        6.007558e+06\n",
       "        10       8.430000e+05\n",
       "        11       2.800000e+05\n",
       "        12       2.396029e+07\n",
       "        13                NaN\n",
       "        15                NaN\n",
       "                     ...     \n",
       "Ward 6  9        6.532786e+05\n",
       "        10       9.212500e+05\n",
       "        11       1.850000e+06\n",
       "        12       2.000000e+05\n",
       "Ward 7  0        3.995500e+05\n",
       "        1        1.865158e+05\n",
       "        2        1.984242e+05\n",
       "        3        2.379211e+05\n",
       "        4        2.978080e+05\n",
       "        5        3.234700e+05\n",
       "        6        2.957809e+05\n",
       "        7        2.651012e+05\n",
       "        8        2.803911e+05\n",
       "        9        3.400000e+05\n",
       "        10       3.535005e+05\n",
       "        12       4.150000e+05\n",
       "Ward 8  0        2.426689e+06\n",
       "        1        5.731426e+05\n",
       "        2        2.195843e+05\n",
       "        3        2.242471e+05\n",
       "        4        2.837140e+05\n",
       "        5        2.652539e+05\n",
       "        6        2.631351e+05\n",
       "        7        3.272000e+05\n",
       "        8        3.555965e+05\n",
       "        9        2.537000e+05\n",
       "        10       2.389107e+05\n",
       "        11       3.489200e+05\n",
       "        12       3.064377e+05\n",
       "        13       4.425000e+05\n",
       "Name: PRICE, Length: 115, dtype: float64"
      ]
     },
     "execution_count": 9,
     "metadata": {},
     "output_type": "execute_result"
    }
   ],
   "source": [
    "#table of average price by Ward and # of bedrooms\n",
    "housing_df.groupby(['WARD', 'BEDRM'])['PRICE'].mean()"
   ]
  },
  {
   "cell_type": "code",
   "execution_count": 10,
   "metadata": {},
   "outputs": [],
   "source": [
    "#fill in null values with information from groupby table\n",
    "housing_df['PRICE'].fillna(housing_df.groupby(['WARD', 'BEDRM'])['PRICE'].transform('mean'), inplace=True)"
   ]
  },
  {
   "cell_type": "code",
   "execution_count": 11,
   "metadata": {},
   "outputs": [
    {
     "data": {
      "text/plain": [
       "18"
      ]
     },
     "execution_count": 11,
     "metadata": {},
     "output_type": "execute_result"
    }
   ],
   "source": [
    "#verify number of null values left in the PRICE column\n",
    "\n",
    "housing_df['PRICE'].isnull().sum()"
   ]
  },
  {
   "cell_type": "markdown",
   "metadata": {},
   "source": [
    "### Note:\n",
    "Some wards only had one house with a certain number of bedrooms. Those houses did not have a price reported (null), so those rows are still empty."
   ]
  },
  {
   "cell_type": "code",
   "execution_count": 12,
   "metadata": {},
   "outputs": [
    {
     "data": {
      "text/html": [
       "<div>\n",
       "<style scoped>\n",
       "    .dataframe tbody tr th:only-of-type {\n",
       "        vertical-align: middle;\n",
       "    }\n",
       "\n",
       "    .dataframe tbody tr th {\n",
       "        vertical-align: top;\n",
       "    }\n",
       "\n",
       "    .dataframe thead th {\n",
       "        text-align: right;\n",
       "    }\n",
       "</style>\n",
       "<table border=\"1\" class=\"dataframe\">\n",
       "  <thead>\n",
       "    <tr style=\"text-align: right;\">\n",
       "      <th></th>\n",
       "      <th>WARD</th>\n",
       "      <th>BEDRM</th>\n",
       "      <th>PRICE</th>\n",
       "    </tr>\n",
       "  </thead>\n",
       "  <tbody>\n",
       "    <tr>\n",
       "      <th>24545</th>\n",
       "      <td>Ward 3</td>\n",
       "      <td>12</td>\n",
       "      <td>NaN</td>\n",
       "    </tr>\n",
       "    <tr>\n",
       "      <th>26469</th>\n",
       "      <td>Ward 3</td>\n",
       "      <td>12</td>\n",
       "      <td>NaN</td>\n",
       "    </tr>\n",
       "    <tr>\n",
       "      <th>27035</th>\n",
       "      <td>Ward 3</td>\n",
       "      <td>16</td>\n",
       "      <td>NaN</td>\n",
       "    </tr>\n",
       "    <tr>\n",
       "      <th>34308</th>\n",
       "      <td>Ward 3</td>\n",
       "      <td>11</td>\n",
       "      <td>NaN</td>\n",
       "    </tr>\n",
       "    <tr>\n",
       "      <th>34320</th>\n",
       "      <td>Ward 4</td>\n",
       "      <td>24</td>\n",
       "      <td>NaN</td>\n",
       "    </tr>\n",
       "    <tr>\n",
       "      <th>36440</th>\n",
       "      <td>Ward 3</td>\n",
       "      <td>13</td>\n",
       "      <td>NaN</td>\n",
       "    </tr>\n",
       "    <tr>\n",
       "      <th>37037</th>\n",
       "      <td>Ward 2</td>\n",
       "      <td>16</td>\n",
       "      <td>NaN</td>\n",
       "    </tr>\n",
       "    <tr>\n",
       "      <th>37597</th>\n",
       "      <td>Ward 2</td>\n",
       "      <td>13</td>\n",
       "      <td>NaN</td>\n",
       "    </tr>\n",
       "    <tr>\n",
       "      <th>38949</th>\n",
       "      <td>Ward 2</td>\n",
       "      <td>15</td>\n",
       "      <td>NaN</td>\n",
       "    </tr>\n",
       "    <tr>\n",
       "      <th>40431</th>\n",
       "      <td>Ward 2</td>\n",
       "      <td>19</td>\n",
       "      <td>NaN</td>\n",
       "    </tr>\n",
       "    <tr>\n",
       "      <th>40556</th>\n",
       "      <td>Ward 2</td>\n",
       "      <td>15</td>\n",
       "      <td>NaN</td>\n",
       "    </tr>\n",
       "    <tr>\n",
       "      <th>42487</th>\n",
       "      <td>Ward 4</td>\n",
       "      <td>10</td>\n",
       "      <td>NaN</td>\n",
       "    </tr>\n",
       "    <tr>\n",
       "      <th>43274</th>\n",
       "      <td>Ward 4</td>\n",
       "      <td>10</td>\n",
       "      <td>NaN</td>\n",
       "    </tr>\n",
       "    <tr>\n",
       "      <th>43434</th>\n",
       "      <td>Ward 4</td>\n",
       "      <td>10</td>\n",
       "      <td>NaN</td>\n",
       "    </tr>\n",
       "    <tr>\n",
       "      <th>58384</th>\n",
       "      <td>Ward 4</td>\n",
       "      <td>10</td>\n",
       "      <td>NaN</td>\n",
       "    </tr>\n",
       "    <tr>\n",
       "      <th>71154</th>\n",
       "      <td>Ward 5</td>\n",
       "      <td>14</td>\n",
       "      <td>NaN</td>\n",
       "    </tr>\n",
       "    <tr>\n",
       "      <th>72476</th>\n",
       "      <td>Ward 5</td>\n",
       "      <td>13</td>\n",
       "      <td>NaN</td>\n",
       "    </tr>\n",
       "    <tr>\n",
       "      <th>104610</th>\n",
       "      <td>NaN</td>\n",
       "      <td>4</td>\n",
       "      <td>NaN</td>\n",
       "    </tr>\n",
       "  </tbody>\n",
       "</table>\n",
       "</div>"
      ],
      "text/plain": [
       "          WARD  BEDRM  PRICE\n",
       "24545   Ward 3     12    NaN\n",
       "26469   Ward 3     12    NaN\n",
       "27035   Ward 3     16    NaN\n",
       "34308   Ward 3     11    NaN\n",
       "34320   Ward 4     24    NaN\n",
       "36440   Ward 3     13    NaN\n",
       "37037   Ward 2     16    NaN\n",
       "37597   Ward 2     13    NaN\n",
       "38949   Ward 2     15    NaN\n",
       "40431   Ward 2     19    NaN\n",
       "40556   Ward 2     15    NaN\n",
       "42487   Ward 4     10    NaN\n",
       "43274   Ward 4     10    NaN\n",
       "43434   Ward 4     10    NaN\n",
       "58384   Ward 4     10    NaN\n",
       "71154   Ward 5     14    NaN\n",
       "72476   Ward 5     13    NaN\n",
       "104610     NaN      4    NaN"
      ]
     },
     "execution_count": 12,
     "metadata": {},
     "output_type": "execute_result"
    }
   ],
   "source": [
    "#look at the rows with missing prices\n",
    "#only show ward, bedroom, and price column\n",
    "housing_df[['WARD', 'BEDRM', 'PRICE']].loc[housing_df['PRICE'].isnull()]"
   ]
  },
  {
   "cell_type": "code",
   "execution_count": 13,
   "metadata": {},
   "outputs": [
    {
     "data": {
      "text/plain": [
       "BEDRM\n",
       "0     2.089351e+06\n",
       "1     2.046698e+06\n",
       "2     6.287699e+05\n",
       "3     4.714808e+05\n",
       "4     6.736694e+05\n",
       "5     1.052915e+06\n",
       "6     1.277628e+06\n",
       "7     1.780188e+06\n",
       "8     8.846376e+05\n",
       "9     2.572085e+06\n",
       "10    8.442396e+05\n",
       "11    1.073987e+06\n",
       "12    3.317439e+06\n",
       "13    4.425000e+05\n",
       "14    9.250000e+05\n",
       "15    1.105000e+06\n",
       "16             NaN\n",
       "19             NaN\n",
       "20    1.900000e+06\n",
       "24             NaN\n",
       "Name: PRICE, dtype: float64"
      ]
     },
     "execution_count": 13,
     "metadata": {},
     "output_type": "execute_result"
    }
   ],
   "source": [
    "#average price of home by number of bedrooms\n",
    "housing_df.groupby('BEDRM')['PRICE'].mean()"
   ]
  },
  {
   "cell_type": "code",
   "execution_count": 14,
   "metadata": {},
   "outputs": [],
   "source": [
    "#fill in the current missing values with the groupby table info above\n",
    "housing_df['PRICE'].fillna(housing_df.groupby('BEDRM')['PRICE'].transform('mean'), inplace=True)"
   ]
  },
  {
   "cell_type": "code",
   "execution_count": 15,
   "metadata": {},
   "outputs": [
    {
     "data": {
      "text/plain": [
       "4"
      ]
     },
     "execution_count": 15,
     "metadata": {},
     "output_type": "execute_result"
    }
   ],
   "source": [
    "#there are still four missing prices\n",
    "housing_df['PRICE'].isnull().sum()"
   ]
  },
  {
   "cell_type": "code",
   "execution_count": 16,
   "metadata": {},
   "outputs": [],
   "source": [
    "#drop any rows that still have a missing price value\n",
    "housing_df.dropna(subset=['PRICE'], inplace=True)"
   ]
  },
  {
   "cell_type": "code",
   "execution_count": 17,
   "metadata": {},
   "outputs": [
    {
     "data": {
      "text/plain": [
       "0"
      ]
     },
     "execution_count": 17,
     "metadata": {},
     "output_type": "execute_result"
    }
   ],
   "source": [
    "#SUCCESS!! no more null values in the PRICE column\n",
    "housing_df['PRICE'].isnull().sum()"
   ]
  },
  {
   "cell_type": "code",
   "execution_count": 18,
   "metadata": {},
   "outputs": [],
   "source": [
    "'''\n",
    "Create a function to calculate scaled values for a column and return a pandas column (Series):\n",
    "\n",
    "This function will take in a pandas column (Series, 1-dimension), convert it into a pandas DataFrame (2-dimensions).\n",
    "Then the function will determine whether to use z-score or MinMax scaling; other methods cannot be used and will terminate the function.\n",
    "Using the dataframe of the column, apply the fit_tranform function to convert it into an array and then apply the scaler function to the array \n",
    "to calculate the scaled values.\n",
    "After calculating the scaled values, the array is reshaped into a 1-dimension array to convert to a pandas Series (column).\n",
    "The pandas column is then returned back and will be added as a new column in the original dataframe.\n",
    "'''\n",
    "\n",
    "#\n",
    "def makeScaledValue(column, scaler_type='zscore'): #other option is 'minmax'\n",
    "    \n",
    "    #covert column (Series) into dataframe\n",
    "    col_df = pd.DataFrame(column)\n",
    "    \n",
    "    #check to see if scaler type to use is z-score or MinMax\n",
    "    if scaler_type == \"zscore\":\n",
    "    \n",
    "        scaler = StandardScaler()\n",
    "        \n",
    "    elif scaler_type == \"minmax\":\n",
    "        \n",
    "        scaler = MinMaxScaler()\n",
    "    \n",
    "    #if it is neither of those scaling methods then exit the function\n",
    "    else:\n",
    "        \n",
    "        return \"Only zscore or minmax scaling can be used.\"\n",
    "        \n",
    "    #if a valid scaling method is being used, print it for the user's confirmation    \n",
    "    print(f'{scaler_type} is being used.')\n",
    "    \n",
    "    #transform the column-dataframe into a 2-dimensional array and then aply the scaling function that was chosen\n",
    "    scaled_array = scaler.fit_transform(col_df)\n",
    "    \n",
    "    #convert the 2D array into a 1D array, then convert it to a pandas Series (column)\n",
    "    scaled_col = pd.Series(scaled_array.reshape(-1))\n",
    "    \n",
    "    #return the column back to the dataframe\n",
    "    return scaled_col"
   ]
  },
  {
   "cell_type": "code",
   "execution_count": 19,
   "metadata": {},
   "outputs": [
    {
     "name": "stdout",
     "output_type": "stream",
     "text": [
      "zscore is being used.\n"
     ]
    }
   ],
   "source": [
    "housing_df['price_zscore'] = makeScaledValue(housing_df['PRICE'])"
   ]
  },
  {
   "cell_type": "code",
   "execution_count": 20,
   "metadata": {},
   "outputs": [
    {
     "data": {
      "text/plain": [
       "0    0.037864\n",
       "1    0.157903\n",
       "2    0.217248\n",
       "3    0.128359\n",
       "4    0.068435\n",
       "Name: price_zscore, dtype: float64"
      ]
     },
     "execution_count": 20,
     "metadata": {},
     "output_type": "execute_result"
    }
   ],
   "source": [
    "housing_df['price_zscore'].head()"
   ]
  },
  {
   "cell_type": "code",
   "execution_count": 21,
   "metadata": {},
   "outputs": [
    {
     "data": {
      "text/plain": [
       "count    158949.000000\n",
       "mean         -0.000004\n",
       "std           1.000015\n",
       "min          -0.157583\n",
       "25%          -0.110238\n",
       "50%          -0.082349\n",
       "75%          -0.030855\n",
       "max          24.371964\n",
       "Name: price_zscore, dtype: float64"
      ]
     },
     "execution_count": 21,
     "metadata": {},
     "output_type": "execute_result"
    }
   ],
   "source": [
    "housing_df['price_zscore'].describe()"
   ]
  },
  {
   "cell_type": "code",
   "execution_count": 22,
   "metadata": {},
   "outputs": [
    {
     "name": "stdout",
     "output_type": "stream",
     "text": [
      "minmax is being used.\n"
     ]
    }
   ],
   "source": [
    "housing_df['price_mmscore'] = makeScaledValue(housing_df['PRICE'], scaler_type='minmax')"
   ]
  },
  {
   "cell_type": "code",
   "execution_count": 23,
   "metadata": {},
   "outputs": [
    {
     "data": {
      "text/plain": [
       "0    0.007968\n",
       "1    0.012861\n",
       "2    0.015281\n",
       "3    0.011657\n",
       "4    0.009214\n",
       "Name: price_mmscore, dtype: float64"
      ]
     },
     "execution_count": 23,
     "metadata": {},
     "output_type": "execute_result"
    }
   ],
   "source": [
    "housing_df['price_mmscore'].head()"
   ]
  },
  {
   "cell_type": "code",
   "execution_count": 24,
   "metadata": {},
   "outputs": [
    {
     "data": {
      "text/plain": [
       "count    158949.000000\n",
       "mean          0.006424\n",
       "std           0.040768\n",
       "min           0.000000\n",
       "25%           0.001930\n",
       "50%           0.003067\n",
       "75%           0.005166\n",
       "max           1.000000\n",
       "Name: price_mmscore, dtype: float64"
      ]
     },
     "execution_count": 24,
     "metadata": {},
     "output_type": "execute_result"
    }
   ],
   "source": [
    "housing_df['price_mmscore'].describe()"
   ]
  },
  {
   "cell_type": "code",
   "execution_count": 25,
   "metadata": {},
   "outputs": [
    {
     "data": {
      "text/plain": [
       "'Only zscore or minmax scaling can be used.'"
      ]
     },
     "execution_count": 25,
     "metadata": {},
     "output_type": "execute_result"
    }
   ],
   "source": [
    "makeScaledValue(housing_df['PRICE'], scaler_type='otherscale')"
   ]
  },
  {
   "cell_type": "markdown",
   "metadata": {},
   "source": [
    "### Removing outliers to see a better (more realistic?) distribution of the data\n",
    "\n",
    "We will show two methods to remove outliers - Standard Deviation and Interquartile Range. For standard deviation, we will use the z-score scaled data because z-scores are a measurement of how many standard deviations a value is from the mean. However, because the data is heavily right-skewed (meaning, all the data is gathered on the left and the tail is on the right) outliers may influence the average price of a home (when using mean). To counter this, we will use the Interquartile Range (IQR) method because it uses the median (middle value) as the average. Although we will use IQR on the MinxMax scaled data, the scaled data of either method *before* the removal of outliers has the same shape. But when we remove outliers, we will see how the shape (distribution) of our data is affected with each method."
   ]
  },
  {
   "cell_type": "code",
   "execution_count": 31,
   "metadata": {},
   "outputs": [],
   "source": [
    "#get a copy of the dataframe that only contains rows that are between -3 and 3\n",
    "#this means that we are getting data that is within 3 standard deviations on either side of the mean\n",
    "zscore_3std_df = housing_df.loc[(housing_df['price_zscore'] <= 1.96) & (housing_df['price_zscore'] >= -1.96)]"
   ]
  },
  {
   "cell_type": "code",
   "execution_count": 32,
   "metadata": {},
   "outputs": [
    {
     "name": "stdout",
     "output_type": "stream",
     "text": [
      "158953\n",
      "158510\n"
     ]
    }
   ],
   "source": [
    "print(len(housing_df))\n",
    "print(len(zscore_3std_df))"
   ]
  },
  {
   "cell_type": "code",
   "execution_count": 33,
   "metadata": {},
   "outputs": [
    {
     "data": {
      "text/plain": [
       "count    1.585100e+05\n",
       "mean     7.605491e+05\n",
       "std      4.240371e+06\n",
       "min      1.000000e+00\n",
       "25%      2.650000e+05\n",
       "50%      4.206029e+05\n",
       "75%      7.083875e+05\n",
       "max      1.374275e+08\n",
       "Name: PRICE, dtype: float64"
      ]
     },
     "execution_count": 33,
     "metadata": {},
     "output_type": "execute_result"
    }
   ],
   "source": [
    "#original price column contains homes between $1 and $137 million\n",
    "zscore_3std_df['PRICE'].describe()"
   ]
  },
  {
   "cell_type": "code",
   "execution_count": 34,
   "metadata": {},
   "outputs": [
    {
     "data": {
      "text/plain": [
       "count    158510.000000\n",
       "mean         -0.045475\n",
       "std           0.153691\n",
       "min          -0.157583\n",
       "25%          -0.110283\n",
       "50%          -0.082509\n",
       "75%          -0.031747\n",
       "max           1.825648\n",
       "Name: price_zscore, dtype: float64"
      ]
     },
     "execution_count": 34,
     "metadata": {},
     "output_type": "execute_result"
    }
   ],
   "source": [
    "zscore_3std_df['price_zscore'].describe()"
   ]
  }
 ],
 "metadata": {
  "kernelspec": {
   "display_name": "Python 3",
   "language": "python",
   "name": "python3"
  },
  "language_info": {
   "codemirror_mode": {
    "name": "ipython",
    "version": 3
   },
   "file_extension": ".py",
   "mimetype": "text/x-python",
   "name": "python",
   "nbconvert_exporter": "python",
   "pygments_lexer": "ipython3",
   "version": "3.7.4"
  }
 },
 "nbformat": 4,
 "nbformat_minor": 2
}
